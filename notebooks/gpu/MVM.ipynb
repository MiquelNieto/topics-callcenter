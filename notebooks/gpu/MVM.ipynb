{
 "cells": [
  {
   "cell_type": "markdown",
   "metadata": {},
   "source": [
    "# MVM (Minimum Viable \"Model\" )"
   ]
  },
  {
   "cell_type": "markdown",
   "metadata": {},
   "source": [
    "La idea es ver el mejor modelo que tenemos hasta el momento algo más en detalle."
   ]
  },
  {
   "cell_type": "markdown",
   "metadata": {},
   "source": [
    "## Imports"
   ]
  },
  {
   "cell_type": "markdown",
   "metadata": {},
   "source": [
    "Importamos las librerías necesarias para el modelo"
   ]
  },
  {
   "cell_type": "code",
   "execution_count": 1,
   "metadata": {},
   "outputs": [
    {
     "name": "stderr",
     "output_type": "stream",
     "text": [
      "Using TensorFlow backend.\n"
     ]
    },
    {
     "name": "stdout",
     "output_type": "stream",
     "text": [
      "Notebook ejecutado el 14-11-2019.\n"
     ]
    }
   ],
   "source": [
    "import sys\n",
    "sys.path.append(\"..\")\n",
    "import warnings\n",
    "warnings.filterwarnings('ignore')\n",
    "from datetime import datetime\n",
    "from mgmtfm import clean, embedding, models, plot_utils, optimize\n",
    "from sklearn.metrics import confusion_matrix\n",
    "\n",
    "\n",
    "\n",
    "\n",
    "print(\"Notebook ejecutado el {}.\".format(datetime.now().strftime(\"%d-%m-%Y\")))"
   ]
  },
  {
   "cell_type": "markdown",
   "metadata": {},
   "source": [
    "Establecemos también los parámetros que incluyen los ficheros de tokens y embeddings a cargar, el nombre del modelo elegido, las clases que reconoce nuestro modelo y las clases que queremos eliminar del conjunto de datos (\"No reconocido\" no tiene sentido). También establecemos la longitud de secuencia máxima que será de 866 (percentil 99 de la longitud de todas las llamadas *tokenizadas*)."
   ]
  },
  {
   "cell_type": "code",
   "execution_count": 2,
   "metadata": {},
   "outputs": [],
   "source": [
    "##Este será el modelo elegido ya que implica tres clases y tiene una precisión aceptable\n",
    "model_name = \"RNN_866_IVR_MULALL_W2V150QC_QN_BF\"\n",
    "\n",
    "file_tokens = \"../data/pandas/tokens_ivr_quit_commons_02112019.pkl\"\n",
    "file_embeddings =\"../data/word2vec/allcalls_150_quitcommons_02112019\"\n",
    "\n",
    "### Quitamos los tipos no reconocidos y establecemos las clases que distingue nuestro modelo\n",
    "quit_class = [\"No Reconocido\"]\n",
    "balancing_types = [\"Baja\", \"Factura\"]\n",
    "OPT_BBDD= \"mgm_optuna\"\n",
    "max_seq_len =866 # Es el percentil 99"
   ]
  },
  {
   "cell_type": "markdown",
   "metadata": {},
   "source": [
    "## Preparamos los datos para el entrenamiento"
   ]
  },
  {
   "cell_type": "markdown",
   "metadata": {},
   "source": [
    "Aunque hemos cargado los tokens aún tenemos que preparar los datos antes de poder pasarselos al modelo. Lo haremos con la ayuda del módulo *mgmtfm*. \n",
    "\n",
    "<BR>\n",
    "    \n",
    "En primer lugar cargamos los tokens y eliminamos las clases no necesarias."
   ]
  },
  {
   "cell_type": "code",
   "execution_count": 3,
   "metadata": {},
   "outputs": [
    {
     "name": "stdout",
     "output_type": "stream",
     "text": [
      "Found 47990 unique tokens.\n"
     ]
    }
   ],
   "source": [
    "#max_seq_len = 1500\n",
    "clean_steps = clean.Clean()\n",
    "clean_steps.load_tokens(file_tokens)\n",
    "for q in quit_class:\n",
    "    clean_steps.quit_class(q)"
   ]
  },
  {
   "cell_type": "markdown",
   "metadata": {},
   "source": [
    "Posteriormente cargamos los embeddings y obtenemos la matiz de embeddings."
   ]
  },
  {
   "cell_type": "code",
   "execution_count": 4,
   "metadata": {},
   "outputs": [],
   "source": [
    "embedding_steps = embedding.Embedding(clean_steps.tokens,clean_steps.word_index ,num_words=clean_steps.NUM_WORDS)\n",
    "embedding_steps.load_embedding(file_embeddings)\n",
    "embedding_matrix = embedding_steps.get_embedding_matrix()"
   ]
  },
  {
   "cell_type": "markdown",
   "metadata": {},
   "source": [
    "Primero obtenemos un conjunto de test del 5% de los datos totales sin realizar ningún tipo de balanceo sobre los mismos. "
   ]
  },
  {
   "cell_type": "code",
   "execution_count": 5,
   "metadata": {},
   "outputs": [
    {
     "name": "stdout",
     "output_type": "stream",
     "text": [
      "Shape of X train and X validation tensor: (413921, 866) (21786, 866)\n",
      "Shape of label train and validation tensor: (413921,) (21786,)\n"
     ]
    }
   ],
   "source": [
    "(_, _,X_test_1, y_test_1) = clean_steps.get_set_data(test_size=0.05, \n",
    "                                        max_seq_len=max_seq_len, balancing_types=balancing_types)\n",
    "                                        "
   ]
  },
  {
   "cell_type": "markdown",
   "metadata": {},
   "source": [
    "Obtenemos un mismo conjunto balanceando el número de clases para que haya el mismo número de cada tipo. "
   ]
  },
  {
   "cell_type": "code",
   "execution_count": 6,
   "metadata": {},
   "outputs": [
    {
     "name": "stdout",
     "output_type": "stream",
     "text": [
      "Shape of X train and X validation tensor: (58920, 866) (14730, 866)\n",
      "Shape of label train and validation tensor: (58920,) (14730,)\n"
     ]
    }
   ],
   "source": [
    "\n",
    "_ = clean_steps.balancing(balancing_types=balancing_types)\n",
    "(_, _,X_test_2, y_test_2) = clean_steps.get_set_data(test_size=0.20, \n",
    "                                        max_seq_len=max_seq_len, balancing_types=balancing_types)\n",
    "\n"
   ]
  },
  {
   "cell_type": "markdown",
   "metadata": {},
   "source": [
    "En el segundo caso vemos que aún poniendo en el conjunto de test un 20%, el número de muestras es de unas 15 mil, menor que las 22 mil que tenemos al no balancear. Esto se debe a que al balancear tenemos tantas muestras como la clase que menos tenga (de las que queremos clasificar) multiplicado por el número de clases."
   ]
  },
  {
   "cell_type": "markdown",
   "metadata": {},
   "source": [
    "## Cargar modelo"
   ]
  },
  {
   "cell_type": "markdown",
   "metadata": {},
   "source": [
    "Para cargar el modelo utilizamos la clase *Optimize* del módulo *mgmtfm* para obtener el mejor entrenamiento de este modelo. Vemos cuales son sus mejores parámetros y el posible nombre para el fichero de pesos que *Optuna* almacena para su mejor configuración."
   ]
  },
  {
   "cell_type": "code",
   "execution_count": 7,
   "metadata": {},
   "outputs": [
    {
     "name": "stderr",
     "output_type": "stream",
     "text": [
      "[I 2019-11-14 21:03:40,758] Using an existing study with name 'RNN_866_IVR_MULALL_W2V150QC_QN_BF' instead of creating a new one.\n"
     ]
    },
    {
     "name": "stdout",
     "output_type": "stream",
     "text": [
      "WARNING:tensorflow:From /usr/local/lib/python3.5/dist-packages/tensorflow/python/framework/op_def_library.py:263: colocate_with (from tensorflow.python.framework.ops) is deprecated and will be removed in a future version.\n",
      "Instructions for updating:\n",
      "Colocations handled automatically by placer.\n",
      "WARNING:tensorflow:From /usr/local/lib/python3.5/dist-packages/keras/backend/tensorflow_backend.py:3445: calling dropout (from tensorflow.python.ops.nn_ops) with keep_prob is deprecated and will be removed in a future version.\n",
      "Instructions for updating:\n",
      "Please use `rate` instead of `keep_prob`. Rate should be set to `rate = 1 - keep_prob`.\n",
      "Cargar el archivo de pesos del estudio RNN_866_IVR_MULALL_W2V150QC_QN_BF y el trial: 19  (probablemente RNN_866_IVR_MULALL_W2V150QC_QN_BF_model_000019.h5) o entrenar.\n",
      "{'lr': 0.0130772443848036, 'decay': 0.0332287311530309, 'cell': 1, 'dropout': 0.11319879246438, 'epochs': 15, 'memory_units': 149, 'batch_size': 486}\n"
     ]
    }
   ],
   "source": [
    "opt_keras = optimize.Optimize(model_name, OPT_BBDD)\n",
    "best_params = opt_keras.get_best_params()\n",
    "bt =opt_keras.get_best_trial()\n",
    "model = models.Models(len(balancing_types)+1,max_seq_len,embedding_steps.embedding_dim,\n",
    "                            embedding_steps.vocabulary_size,embedding_matrix)\n",
    "model.get_best_model(model_name, best_params)\n",
    "prob_fname = \"{}_model_{:06d}.h5\".format(model_name, bt)\n",
    "print(\"Cargar el archivo de pesos del estudio {} y el trial: {}  (probablemente {}) o entrenar.\".format(model_name,bt, prob_fname))\n",
    "print(best_params)"
   ]
  },
  {
   "cell_type": "markdown",
   "metadata": {},
   "source": [
    "Damos por hecho que tenemos el fichero de pesos. Si no lo tuvieramos tendriamos que entrenar el modelo con los mejores parámetros conocidos."
   ]
  },
  {
   "cell_type": "code",
   "execution_count": 8,
   "metadata": {},
   "outputs": [],
   "source": [
    "model._model.load_weights(\"../\" + prob_fname)"
   ]
  },
  {
   "cell_type": "markdown",
   "metadata": {},
   "source": [
    "## Obtenemos matriz de Confusión"
   ]
  },
  {
   "cell_type": "markdown",
   "metadata": {},
   "source": [
    "Obtenemos la matriz de confusión para el primer conjunto."
   ]
  },
  {
   "cell_type": "code",
   "execution_count": 9,
   "metadata": {},
   "outputs": [
    {
     "name": "stdout",
     "output_type": "stream",
     "text": [
      "CPU times: user 1min 45s, sys: 1.15 s, total: 1min 46s\n",
      "Wall time: 1min 45s\n"
     ]
    }
   ],
   "source": [
    "%%time\n",
    "\n",
    "y_pred_1 = model.predict(X_test_1)\n",
    "y_pred_1 = [ list(v).index(max(v)) for v in y_pred_1]\n",
    "cm_1=  confusion_matrix(y_test_1, y_pred_1)"
   ]
  },
  {
   "cell_type": "markdown",
   "metadata": {},
   "source": [
    "Hacemos lo mismo para el segundo."
   ]
  },
  {
   "cell_type": "code",
   "execution_count": 11,
   "metadata": {},
   "outputs": [
    {
     "name": "stdout",
     "output_type": "stream",
     "text": [
      "CPU times: user 1min 9s, sys: 608 ms, total: 1min 10s\n",
      "Wall time: 1min 10s\n"
     ]
    }
   ],
   "source": [
    "%%time\n",
    "\n",
    "y_pred_2 = model.predict(X_test_2)\n",
    "y_pred_2 = [ list(v).index(max(v)) for v in y_pred_2]\n",
    "cm_2=  confusion_matrix(y_test_2, y_pred_2)"
   ]
  },
  {
   "cell_type": "markdown",
   "metadata": {},
   "source": [
    "Como curiosidad (y probablemente de utilidad a la hora de servir). Vemos que hemos tardado 105 segundos para el primer caso y 70 para el segundo. Teniendo en cuenta el número de muestras de cada caso, y dando por hecho que el tiempo de generación de la matriz es despreciable, tenemos un total de unas 210 predicciones por segundo."
   ]
  },
  {
   "cell_type": "markdown",
   "metadata": {},
   "source": [
    "Mostramos la matriz para los datos no balanceados:"
   ]
  },
  {
   "cell_type": "code",
   "execution_count": 13,
   "metadata": {},
   "outputs": [
    {
     "data": {
      "image/png": "[encoded data removed]",
      "text/plain": [
       "<Figure size 576x432 with 2 Axes>"
      ]
     },
     "metadata": {
      "needs_background": "light"
     },
     "output_type": "display_data"
    }
   ],
   "source": [
    "plot_utils.plot_confusion_matrix(cm_1,target_names=balancing_types + [\"Resto\"] , title=\"Sin balancear\")"
   ]
  },
  {
   "cell_type": "markdown",
   "metadata": {},
   "source": [
    "Y para los datos balanceados:"
   ]
  },
  {
   "cell_type": "code",
   "execution_count": 15,
   "metadata": {},
   "outputs": [
    {
     "data": {
      "image/png": "[encoded data removed]",
      "text/plain": [
       "<Figure size 576x432 with 2 Axes>"
      ]
     },
     "metadata": {
      "needs_background": "light"
     },
     "output_type": "display_data"
    }
   ],
   "source": [
    "deplot_utils.plot_confusion_matrix(cm_2,target_names=balancing_types + [\"Resto\"] , title=\"balanceando\")"
   ]
  },
  {
   "cell_type": "markdown",
   "metadata": {},
   "source": [
    "Vemos que si que vemos que en el modelo sin balancear la mayoria de muestras se concentran en el resto, lo que es normal, ya que hay más llamadas de otros tipos que de Baja y Factura. Sin embargo podemos ver que la precisión no varía sustancialmente por lo que el modelo es suceptible de usar en producción. "
   ]
  }
 ],
 "metadata": {
  "kernelspec": {
   "display_name": "Python 3",
   "language": "python",
   "name": "python3"
  },
  "language_info": {
   "codemirror_mode": {
    "name": "ipython",
    "version": 3
   },
   "file_extension": ".py",
   "mimetype": "text/x-python",
   "name": "python",
   "nbconvert_exporter": "python",
   "pygments_lexer": "ipython3",
   "version": "3.7.4"
  }
 },
 "nbformat": 4,
 "nbformat_minor": 4
}
